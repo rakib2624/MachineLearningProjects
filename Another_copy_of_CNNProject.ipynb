{
  "nbformat": 4,
  "nbformat_minor": 0,
  "metadata": {
    "colab": {
      "provenance": [],
      "gpuType": "T4",
      "authorship_tag": "ABX9TyOrqpOBPFd83SIp7Vg3GUPr",
      "include_colab_link": true
    },
    "kernelspec": {
      "name": "python3",
      "display_name": "Python 3"
    },
    "language_info": {
      "name": "python"
    },
    "accelerator": "GPU"
  },
  "cells": [
    {
      "cell_type": "markdown",
      "metadata": {
        "id": "view-in-github",
        "colab_type": "text"
      },
      "source": [
        "<a href=\"https://colab.research.google.com/github/rakib2624/MachineLearningProjects/blob/main/Another_copy_of_CNNProject.ipynb\" target=\"_parent\"><img src=\"https://colab.research.google.com/assets/colab-badge.svg\" alt=\"Open In Colab\"/></a>"
      ]
    },
    {
      "cell_type": "code",
      "execution_count": null,
      "metadata": {
        "colab": {
          "base_uri": "https://localhost:8080/"
        },
        "id": "wy154jAy6fi0",
        "outputId": "2bdfe9ad-94bd-4c20-af32-1c92d3933f4d"
      },
      "outputs": [
        {
          "output_type": "stream",
          "name": "stdout",
          "text": [
            "Downloading data from https://www.cs.toronto.edu/~kriz/cifar-10-python.tar.gz\n",
            "170498071/170498071 [==============================] - 2s 0us/step\n",
            "Epoch 1/64\n",
            "1000/1000 [==============================] - 9s 7ms/step - loss: 1.8877 - accuracy: 0.3240 - val_loss: 1.7361 - val_accuracy: 0.3878\n",
            "Epoch 2/64\n",
            "1000/1000 [==============================] - 8s 8ms/step - loss: 1.7066 - accuracy: 0.3913 - val_loss: 1.6536 - val_accuracy: 0.4069\n",
            "Epoch 3/64\n",
            "1000/1000 [==============================] - 8s 8ms/step - loss: 1.6367 - accuracy: 0.4162 - val_loss: 1.6437 - val_accuracy: 0.4165\n",
            "Epoch 4/64\n",
            "1000/1000 [==============================] - 7s 7ms/step - loss: 1.5842 - accuracy: 0.4352 - val_loss: 1.6063 - val_accuracy: 0.4276\n",
            "Epoch 5/64\n",
            "1000/1000 [==============================] - 8s 8ms/step - loss: 1.5485 - accuracy: 0.4467 - val_loss: 1.5387 - val_accuracy: 0.4549\n",
            "Epoch 6/64\n",
            "1000/1000 [==============================] - 7s 7ms/step - loss: 1.5201 - accuracy: 0.4578 - val_loss: 1.5578 - val_accuracy: 0.4378\n",
            "Epoch 7/64\n",
            "1000/1000 [==============================] - 8s 8ms/step - loss: 1.4954 - accuracy: 0.4676 - val_loss: 1.5272 - val_accuracy: 0.4601\n",
            "Epoch 8/64\n",
            "1000/1000 [==============================] - 8s 8ms/step - loss: 1.4782 - accuracy: 0.4721 - val_loss: 1.5633 - val_accuracy: 0.4475\n",
            "Epoch 9/64\n",
            "1000/1000 [==============================] - 7s 7ms/step - loss: 1.4597 - accuracy: 0.4792 - val_loss: 1.4731 - val_accuracy: 0.4756\n",
            "Epoch 10/64\n",
            "1000/1000 [==============================] - 8s 8ms/step - loss: 1.4451 - accuracy: 0.4830 - val_loss: 1.5176 - val_accuracy: 0.4502\n",
            "Epoch 11/64\n",
            "1000/1000 [==============================] - 7s 7ms/step - loss: 1.4324 - accuracy: 0.4863 - val_loss: 1.5058 - val_accuracy: 0.4716\n",
            "Epoch 12/64\n",
            "1000/1000 [==============================] - 8s 8ms/step - loss: 1.4203 - accuracy: 0.4927 - val_loss: 1.5389 - val_accuracy: 0.4548\n",
            "Epoch 13/64\n",
            "1000/1000 [==============================] - 8s 8ms/step - loss: 1.4072 - accuracy: 0.4978 - val_loss: 1.5010 - val_accuracy: 0.4737\n",
            "Epoch 14/64\n",
            "1000/1000 [==============================] - 7s 7ms/step - loss: 1.3987 - accuracy: 0.5003 - val_loss: 1.4978 - val_accuracy: 0.4712\n",
            "Epoch 15/64\n",
            "1000/1000 [==============================] - 8s 8ms/step - loss: 1.3869 - accuracy: 0.5073 - val_loss: 1.4698 - val_accuracy: 0.4761\n",
            "Epoch 16/64\n",
            "1000/1000 [==============================] - 7s 7ms/step - loss: 1.3811 - accuracy: 0.5059 - val_loss: 1.4870 - val_accuracy: 0.4707\n",
            "Epoch 17/64\n",
            "1000/1000 [==============================] - 8s 8ms/step - loss: 1.3702 - accuracy: 0.5107 - val_loss: 1.4475 - val_accuracy: 0.4924\n",
            "Epoch 18/64\n",
            "1000/1000 [==============================] - 8s 8ms/step - loss: 1.3628 - accuracy: 0.5154 - val_loss: 1.4590 - val_accuracy: 0.4848\n",
            "Epoch 19/64\n",
            "1000/1000 [==============================] - 7s 7ms/step - loss: 1.3588 - accuracy: 0.5150 - val_loss: 1.4708 - val_accuracy: 0.4796\n",
            "Epoch 20/64\n",
            "1000/1000 [==============================] - 8s 8ms/step - loss: 1.3512 - accuracy: 0.5176 - val_loss: 1.4730 - val_accuracy: 0.4779\n",
            "Epoch 21/64\n",
            "1000/1000 [==============================] - 8s 8ms/step - loss: 1.3419 - accuracy: 0.5186 - val_loss: 1.4270 - val_accuracy: 0.4939\n",
            "Epoch 22/64\n",
            "1000/1000 [==============================] - 7s 7ms/step - loss: 1.3342 - accuracy: 0.5224 - val_loss: 1.4588 - val_accuracy: 0.4815\n",
            "Epoch 23/64\n",
            "1000/1000 [==============================] - 8s 8ms/step - loss: 1.3332 - accuracy: 0.5240 - val_loss: 1.4269 - val_accuracy: 0.4912\n",
            "Epoch 24/64\n",
            "1000/1000 [==============================] - 7s 7ms/step - loss: 1.3228 - accuracy: 0.5283 - val_loss: 1.4786 - val_accuracy: 0.4768\n",
            "Epoch 25/64\n",
            "1000/1000 [==============================] - 8s 8ms/step - loss: 1.3234 - accuracy: 0.5249 - val_loss: 1.4680 - val_accuracy: 0.4792\n",
            "Epoch 26/64\n",
            "1000/1000 [==============================] - 8s 8ms/step - loss: 1.3084 - accuracy: 0.5327 - val_loss: 1.4637 - val_accuracy: 0.4774\n",
            "Epoch 27/64\n",
            "1000/1000 [==============================] - 7s 7ms/step - loss: 1.3107 - accuracy: 0.5302 - val_loss: 1.4742 - val_accuracy: 0.4827\n",
            "Epoch 28/64\n",
            "1000/1000 [==============================] - 8s 8ms/step - loss: 1.3050 - accuracy: 0.5334 - val_loss: 1.4649 - val_accuracy: 0.4854\n",
            "Epoch 29/64\n",
            "1000/1000 [==============================] - 8s 8ms/step - loss: 1.3008 - accuracy: 0.5358 - val_loss: 1.4851 - val_accuracy: 0.4800\n",
            "Epoch 30/64\n",
            "1000/1000 [==============================] - 8s 8ms/step - loss: 1.2937 - accuracy: 0.5355 - val_loss: 1.4590 - val_accuracy: 0.4857\n",
            "Epoch 31/64\n",
            "1000/1000 [==============================] - 8s 8ms/step - loss: 1.2922 - accuracy: 0.5370 - val_loss: 1.4547 - val_accuracy: 0.4896\n",
            "Epoch 32/64\n",
            "1000/1000 [==============================] - 7s 7ms/step - loss: 1.2888 - accuracy: 0.5388 - val_loss: 1.4459 - val_accuracy: 0.4956\n",
            "Epoch 33/64\n",
            "1000/1000 [==============================] - 8s 8ms/step - loss: 1.2828 - accuracy: 0.5392 - val_loss: 1.4422 - val_accuracy: 0.4900\n",
            "Epoch 34/64\n",
            "1000/1000 [==============================] - 9s 9ms/step - loss: 1.2816 - accuracy: 0.5417 - val_loss: 1.4741 - val_accuracy: 0.4751\n",
            "Epoch 35/64\n",
            "1000/1000 [==============================] - 7s 7ms/step - loss: 1.2780 - accuracy: 0.5411 - val_loss: 1.4365 - val_accuracy: 0.4988\n",
            "Epoch 36/64\n",
            "1000/1000 [==============================] - 8s 8ms/step - loss: 1.2731 - accuracy: 0.5428 - val_loss: 1.4750 - val_accuracy: 0.4915\n",
            "Epoch 37/64\n",
            "1000/1000 [==============================] - 8s 8ms/step - loss: 1.2653 - accuracy: 0.5461 - val_loss: 1.4239 - val_accuracy: 0.5026\n",
            "Epoch 38/64\n",
            "1000/1000 [==============================] - 7s 7ms/step - loss: 1.2646 - accuracy: 0.5465 - val_loss: 1.4224 - val_accuracy: 0.5035\n",
            "Epoch 39/64\n",
            "1000/1000 [==============================] - 8s 8ms/step - loss: 1.2584 - accuracy: 0.5493 - val_loss: 1.4356 - val_accuracy: 0.5020\n",
            "Epoch 40/64\n",
            "1000/1000 [==============================] - 7s 7ms/step - loss: 1.2535 - accuracy: 0.5517 - val_loss: 1.4326 - val_accuracy: 0.5020\n",
            "Epoch 41/64\n",
            "1000/1000 [==============================] - 8s 8ms/step - loss: 1.2521 - accuracy: 0.5528 - val_loss: 1.4448 - val_accuracy: 0.4951\n",
            "Epoch 42/64\n",
            "1000/1000 [==============================] - 8s 8ms/step - loss: 1.2493 - accuracy: 0.5514 - val_loss: 1.4430 - val_accuracy: 0.4970\n",
            "Epoch 43/64\n",
            "1000/1000 [==============================] - 7s 7ms/step - loss: 1.2472 - accuracy: 0.5526 - val_loss: 1.4726 - val_accuracy: 0.4838\n",
            "Epoch 44/64\n",
            "1000/1000 [==============================] - 8s 8ms/step - loss: 1.2424 - accuracy: 0.5511 - val_loss: 1.4396 - val_accuracy: 0.4954\n",
            "Epoch 45/64\n",
            "1000/1000 [==============================] - 8s 8ms/step - loss: 1.2391 - accuracy: 0.5543 - val_loss: 1.4630 - val_accuracy: 0.4895\n",
            "Epoch 46/64\n",
            "1000/1000 [==============================] - 7s 7ms/step - loss: 1.2442 - accuracy: 0.5538 - val_loss: 1.4479 - val_accuracy: 0.4966\n",
            "Epoch 47/64\n",
            "1000/1000 [==============================] - 9s 9ms/step - loss: 1.2341 - accuracy: 0.5553 - val_loss: 1.4583 - val_accuracy: 0.4943\n",
            "Epoch 48/64\n",
            "1000/1000 [==============================] - 7s 7ms/step - loss: 1.2320 - accuracy: 0.5584 - val_loss: 1.4461 - val_accuracy: 0.4933\n",
            "Epoch 49/64\n",
            "1000/1000 [==============================] - 8s 8ms/step - loss: 1.2291 - accuracy: 0.5609 - val_loss: 1.4425 - val_accuracy: 0.4996\n",
            "Epoch 50/64\n",
            "1000/1000 [==============================] - 9s 9ms/step - loss: 1.2266 - accuracy: 0.5606 - val_loss: 1.4725 - val_accuracy: 0.4890\n",
            "Epoch 51/64\n",
            "1000/1000 [==============================] - 7s 7ms/step - loss: 1.2262 - accuracy: 0.5594 - val_loss: 1.4453 - val_accuracy: 0.4940\n",
            "Epoch 52/64\n",
            "1000/1000 [==============================] - 8s 8ms/step - loss: 1.2196 - accuracy: 0.5632 - val_loss: 1.4733 - val_accuracy: 0.4940\n",
            "Epoch 53/64\n",
            "1000/1000 [==============================] - 7s 7ms/step - loss: 1.2184 - accuracy: 0.5632 - val_loss: 1.4611 - val_accuracy: 0.4895\n",
            "Epoch 54/64\n",
            "1000/1000 [==============================] - 8s 8ms/step - loss: 1.2217 - accuracy: 0.5597 - val_loss: 1.4667 - val_accuracy: 0.4936\n",
            "Epoch 55/64\n",
            "1000/1000 [==============================] - 8s 8ms/step - loss: 1.2170 - accuracy: 0.5613 - val_loss: 1.4579 - val_accuracy: 0.4996\n",
            "Epoch 56/64\n",
            "1000/1000 [==============================] - 7s 7ms/step - loss: 1.2098 - accuracy: 0.5683 - val_loss: 1.4409 - val_accuracy: 0.5000\n",
            "Epoch 57/64\n",
            "1000/1000 [==============================] - 8s 8ms/step - loss: 1.2082 - accuracy: 0.5654 - val_loss: 1.4656 - val_accuracy: 0.4880\n",
            "Epoch 58/64\n",
            "1000/1000 [==============================] - 8s 8ms/step - loss: 1.2060 - accuracy: 0.5673 - val_loss: 1.4403 - val_accuracy: 0.5037\n",
            "Epoch 59/64\n",
            "1000/1000 [==============================] - 7s 7ms/step - loss: 1.2071 - accuracy: 0.5665 - val_loss: 1.4608 - val_accuracy: 0.4945\n",
            "Epoch 60/64\n",
            "1000/1000 [==============================] - 8s 8ms/step - loss: 1.2025 - accuracy: 0.5681 - val_loss: 1.4585 - val_accuracy: 0.4955\n",
            "Epoch 61/64\n",
            "1000/1000 [==============================] - 7s 7ms/step - loss: 1.2015 - accuracy: 0.5680 - val_loss: 1.4701 - val_accuracy: 0.4970\n",
            "Epoch 62/64\n",
            "1000/1000 [==============================] - 8s 8ms/step - loss: 1.1958 - accuracy: 0.5681 - val_loss: 1.4881 - val_accuracy: 0.4811\n",
            "Epoch 63/64\n",
            "1000/1000 [==============================] - 8s 8ms/step - loss: 1.2015 - accuracy: 0.5701 - val_loss: 1.4824 - val_accuracy: 0.4917\n",
            "Epoch 64/64\n",
            "1000/1000 [==============================] - 7s 7ms/step - loss: 1.1982 - accuracy: 0.5699 - val_loss: 1.4833 - val_accuracy: 0.4899\n",
            "313/313 [==============================] - 1s 4ms/step - loss: 1.4833 - accuracy: 0.4899\n",
            "Test accuracy: 0.48989999294281006\n"
          ]
        }
      ],
      "source": [
        "import tensorflow as tf\n",
        "from tensorflow.keras import layers, models\n",
        "from tensorflow.keras.datasets import cifar10\n",
        "\n",
        "# Load the dataset from cifar10\n",
        "(train_images, train_labels), (test_images, test_labels) = cifar10.load_data()\n",
        "\n",
        "# Normalize the value\n",
        "train_images, test_images = train_images / 255.0, test_images / 255.0\n",
        "\n",
        "# declaration of the classes\n",
        "class_names = [\"airplane\",\"automobile\",\"bird\",\"cat\",\"deer\",\"dog\",\"frog\",\"horse\",\"ship\",\"truck\"]\n",
        "classes_to_keep = [0, 1, 2, 3, 4, 5, 6, 7, 8, 9]\n",
        "\n",
        "# Build the ANN Model\n",
        "ann = models.Sequential([\n",
        "    layers.Flatten(input_shape=(32, 32, 3)),\n",
        "    layers.Dense(128, activation='relu'),\n",
        "    layers.Dense(64, activation='relu'),\n",
        "    layers.Dense(10, activation='softmax')\n",
        "])\n",
        "\n",
        "# Compile the ANN model\n",
        "ann.compile(optimizer='adam',\n",
        "              loss='sparse_categorical_crossentropy',\n",
        "              metrics=['accuracy'])\n",
        "\n",
        "history = ann.fit(train_images, train_labels, epochs=64,batch_size=50, validation_data=(test_images, test_labels))\n",
        "\n",
        "test_loss, test_acc = ann.evaluate(test_images, test_labels)\n",
        "print('Test accuracy:', test_acc)"
      ]
    },
    {
      "cell_type": "code",
      "source": [],
      "metadata": {
        "id": "1_DQDctdwJ6S"
      },
      "execution_count": null,
      "outputs": []
    },
    {
      "cell_type": "code",
      "source": [
        "import numpy as np\n",
        "\n",
        "train_filter = np.isin(train_labels, classes_to_keep).reshape(-1)\n",
        "test_filter = np.isin(test_labels, classes_to_keep).reshape(-1)\n",
        "train_images, train_labels = train_images[train_filter], train_labels[train_filter]\n",
        "test_images, test_labels = test_images[test_filter], test_labels[test_filter]\n",
        "\n",
        "# Build CNN Model\n",
        "cnn = models.Sequential([\n",
        "    layers.Conv2D(32, (3, 3), activation='relu', input_shape=(32, 32, 3)),\n",
        "    layers.MaxPooling2D((2, 2)),\n",
        "    layers.Conv2D(64, (3, 3), activation='relu'),\n",
        "    layers.MaxPooling2D((2, 2)),\n",
        "    layers.Conv2D(64, (3, 3), activation='relu'),\n",
        "    layers.Flatten(),\n",
        "    layers.Dense(64, activation='relu'),\n",
        "    layers.Dense(len(classes_to_keep), activation='softmax')\n",
        "])\n",
        "\n",
        "# Compile CNN Model\n",
        "cnn.compile(optimizer='adam',\n",
        "              loss='sparse_categorical_crossentropy',\n",
        "              metrics=['accuracy'])\n",
        "\n",
        "history = cnn.fit(train_images, train_labels, epochs=20,batch_size=50, validation_data=(test_images, test_labels))\n",
        "\n",
        "test_loss, test_acc = cnn.evaluate(test_images, test_labels)\n",
        "print('Test accuracy:', test_acc)"
      ],
      "metadata": {
        "colab": {
          "base_uri": "https://localhost:8080/"
        },
        "id": "7sNI0zcTM_EX",
        "outputId": "b268533a-be23-4afa-b222-2eb057d1888b"
      },
      "execution_count": null,
      "outputs": [
        {
          "output_type": "stream",
          "name": "stdout",
          "text": [
            "Epoch 1/20\n",
            "1000/1000 [==============================] - 121s 59ms/step - loss: 1.5626 - accuracy: 0.4295 - val_loss: 1.2931 - val_accuracy: 0.5392\n",
            "Epoch 2/20\n",
            "1000/1000 [==============================] - 61s 61ms/step - loss: 1.1831 - accuracy: 0.5799 - val_loss: 1.0635 - val_accuracy: 0.6259\n",
            "Epoch 3/20\n",
            "1000/1000 [==============================] - 60s 60ms/step - loss: 1.0313 - accuracy: 0.6396 - val_loss: 1.0235 - val_accuracy: 0.6367\n",
            "Epoch 4/20\n",
            "1000/1000 [==============================] - 61s 61ms/step - loss: 0.9309 - accuracy: 0.6772 - val_loss: 0.9750 - val_accuracy: 0.6584\n",
            "Epoch 5/20\n",
            "1000/1000 [==============================] - 61s 61ms/step - loss: 0.8568 - accuracy: 0.7025 - val_loss: 0.9286 - val_accuracy: 0.6759\n",
            "Epoch 6/20\n",
            "1000/1000 [==============================] - 59s 59ms/step - loss: 0.7997 - accuracy: 0.7210 - val_loss: 0.8784 - val_accuracy: 0.6995\n",
            "Epoch 7/20\n",
            "1000/1000 [==============================] - 58s 59ms/step - loss: 0.7498 - accuracy: 0.7375 - val_loss: 0.8771 - val_accuracy: 0.6972\n",
            "Epoch 8/20\n",
            "1000/1000 [==============================] - 61s 61ms/step - loss: 0.7065 - accuracy: 0.7549 - val_loss: 0.8900 - val_accuracy: 0.6963\n",
            "Epoch 9/20\n",
            "1000/1000 [==============================] - 60s 60ms/step - loss: 0.6686 - accuracy: 0.7680 - val_loss: 0.8656 - val_accuracy: 0.7055\n",
            "Epoch 10/20\n",
            "1000/1000 [==============================] - 64s 64ms/step - loss: 0.6327 - accuracy: 0.7779 - val_loss: 0.8382 - val_accuracy: 0.7199\n",
            "Epoch 11/20\n",
            "1000/1000 [==============================] - 60s 60ms/step - loss: 0.5952 - accuracy: 0.7910 - val_loss: 0.8522 - val_accuracy: 0.7181\n",
            "Epoch 12/20\n",
            "1000/1000 [==============================] - 58s 58ms/step - loss: 0.5677 - accuracy: 0.8007 - val_loss: 0.8338 - val_accuracy: 0.7287\n",
            "Epoch 13/20\n",
            "1000/1000 [==============================] - 60s 60ms/step - loss: 0.5334 - accuracy: 0.8121 - val_loss: 0.8896 - val_accuracy: 0.7174\n",
            "Epoch 14/20\n",
            "1000/1000 [==============================] - 60s 60ms/step - loss: 0.5089 - accuracy: 0.8212 - val_loss: 0.9068 - val_accuracy: 0.7128\n",
            "Epoch 15/20\n",
            "1000/1000 [==============================] - 58s 58ms/step - loss: 0.4813 - accuracy: 0.8305 - val_loss: 0.9199 - val_accuracy: 0.7105\n",
            "Epoch 16/20\n",
            "1000/1000 [==============================] - 61s 61ms/step - loss: 0.4595 - accuracy: 0.8373 - val_loss: 0.8829 - val_accuracy: 0.7233\n",
            "Epoch 17/20\n",
            "1000/1000 [==============================] - 61s 61ms/step - loss: 0.4321 - accuracy: 0.8479 - val_loss: 0.9790 - val_accuracy: 0.7105\n",
            "Epoch 18/20\n",
            "1000/1000 [==============================] - 60s 60ms/step - loss: 0.4077 - accuracy: 0.8541 - val_loss: 0.9613 - val_accuracy: 0.7183\n",
            "Epoch 19/20\n",
            "1000/1000 [==============================] - 61s 61ms/step - loss: 0.3869 - accuracy: 0.8624 - val_loss: 0.9843 - val_accuracy: 0.7185\n",
            "Epoch 20/20\n",
            "1000/1000 [==============================] - 62s 62ms/step - loss: 0.3633 - accuracy: 0.8709 - val_loss: 1.0595 - val_accuracy: 0.7170\n",
            "313/313 [==============================] - 4s 11ms/step - loss: 1.0595 - accuracy: 0.7170\n",
            "Test accuracy: 0.7170000076293945\n"
          ]
        }
      ]
    },
    {
      "cell_type": "code",
      "source": [
        "import matplotlib.pyplot as plt\n",
        "\n",
        "# Training and Testing accuracy graph\n",
        "plt.plot(history.history['accuracy'], label='Training Accuracy')\n",
        "plt.plot(history.history['val_accuracy'], label='Testing Accuracy')\n",
        "plt.xlabel('Epoch')\n",
        "plt.ylabel('Accuracy')\n",
        "plt.title('Training and Testing Accuracy')\n",
        "plt.legend()\n",
        "plt.show()"
      ],
      "metadata": {
        "colab": {
          "base_uri": "https://localhost:8080/",
          "height": 472
        },
        "id": "1HXhGK_iUs-v",
        "outputId": "a20f9734-cfe9-43ad-e2c3-f7a42d278c1e"
      },
      "execution_count": null,
      "outputs": [
        {
          "output_type": "display_data",
          "data": {
            "text/plain": [
              "<Figure size 640x480 with 1 Axes>"
            ],
            "image/png": "[encoded data removed]"
          },
          "metadata": {}
        }
      ]
    },
    {
      "cell_type": "code",
      "source": [
        "def aggregate_classes(class_names, classes_to_keep):\n",
        "    return {class_index: class_name for class_index, class_name in zip(classes_to_keep, class_names)}\n",
        "\n",
        "def plot_sample_by_label(X, y, label, class_dict):\n",
        "    indices = np.where(y == label)[0]\n",
        "    index = np.random.choice(indices)\n",
        "    image = X[index]\n",
        "    class_name = class_dict[label]\n",
        "    return image, class_name\n",
        "\n",
        "class_dict = aggregate_classes(class_names, classes_to_keep)"
      ],
      "metadata": {
        "id": "Dc46y16XnkWU"
      },
      "execution_count": null,
      "outputs": []
    },
    {
      "cell_type": "code",
      "source": [
        "label = 0\n",
        "image, class_name = plot_sample_by_label(train_images, train_labels, label, class_dict)\n",
        "plt.figure(figsize=(15, 2))\n",
        "plt.imshow(image)\n",
        "plt.xlabel(class_name)\n",
        "plt.show()"
      ],
      "metadata": {
        "colab": {
          "base_uri": "https://localhost:8080/",
          "height": 237
        },
        "id": "bdKREdzpvIR-",
        "outputId": "5c3be54d-866a-45be-92d3-183bd088f144"
      },
      "execution_count": null,
      "outputs": [
        {
          "output_type": "display_data",
          "data": {
            "text/plain": [
              "<Figure size 1500x200 with 1 Axes>"
            ],
            "image/png": "[encoded data removed]"
          },
          "metadata": {}
        }
      ]
    },
    {
      "cell_type": "code",
      "source": [
        "print(\"Missing values in train images: \", np.isnan(train_images).sum())\n",
        "print(\"Missing values in test images:\", np.isnan(test_images).sum())"
      ],
      "metadata": {
        "colab": {
          "base_uri": "https://localhost:8080/"
        },
        "id": "OboUqeG-ntxy",
        "outputId": "471f907d-3e6c-4303-acf5-e6d45840dfbd"
      },
      "execution_count": null,
      "outputs": [
        {
          "output_type": "stream",
          "name": "stdout",
          "text": [
            "Missing values in train images:  0\n",
            "Missing values in test images: 0\n"
          ]
        }
      ]
    },
    {
      "cell_type": "code",
      "source": [
        "print(\"Number of duplicate rows in train images:\", len(train_images) - len(np.unique(train_images, axis=0)))\n",
        "print(\"Number of duplicate rows in test images:\", len(test_images) - len(np.unique(test_images, axis=0)))"
      ],
      "metadata": {
        "colab": {
          "base_uri": "https://localhost:8080/"
        },
        "id": "Ne9-8o8vriko",
        "outputId": "b247a873-ec93-4011-f0ae-db6fa93edbf0"
      },
      "execution_count": null,
      "outputs": [
        {
          "output_type": "stream",
          "name": "stdout",
          "text": [
            "Number of duplicate rows in train images: 0\n",
            "Number of duplicate rows in test images: 0\n"
          ]
        }
      ]
    },
    {
      "cell_type": "code",
      "source": [
        "cnn.evaluate(test_images, test_labels)"
      ],
      "metadata": {
        "colab": {
          "base_uri": "https://localhost:8080/"
        },
        "id": "bDwd4rl0yGAj",
        "outputId": "de74c8c5-c9a9-4260-9c51-c3bfb4fe5386"
      },
      "execution_count": null,
      "outputs": [
        {
          "output_type": "stream",
          "name": "stdout",
          "text": [
            "313/313 [==============================] - 3s 11ms/step - loss: 1.0595 - accuracy: 0.7170\n"
          ]
        },
        {
          "output_type": "execute_result",
          "data": {
            "text/plain": [
              "[1.0595245361328125, 0.7170000076293945]"
            ]
          },
          "metadata": {},
          "execution_count": 49
        }
      ]
    },
    {
      "cell_type": "code",
      "source": [
        "def plot_sample(X, y, index):\n",
        "    index = int(index)\n",
        "    plt.figure(figsize = (15,2))\n",
        "    plt.imshow(X[index])\n",
        "    plt.xlabel(class_names[int(y[index])])"
      ],
      "metadata": {
        "id": "z9f7dqZozIWH"
      },
      "execution_count": null,
      "outputs": []
    },
    {
      "cell_type": "code",
      "source": [
        "test_labels[:5]"
      ],
      "metadata": {
        "colab": {
          "base_uri": "https://localhost:8080/"
        },
        "id": "1Tl0E3JK2R89",
        "outputId": "1d99a30a-a1d9-4fe0-dcd3-4a7d19632cd1"
      },
      "execution_count": null,
      "outputs": [
        {
          "output_type": "execute_result",
          "data": {
            "text/plain": [
              "array([0.61960784, 0.43921569, 0.19215686, 0.62352941, 0.43529412])"
            ]
          },
          "metadata": {},
          "execution_count": 67
        }
      ]
    },
    {
      "cell_type": "code",
      "source": [
        "y_prd = cnn.predict(test_images)\n",
        "y_prd[:5]"
      ],
      "metadata": {
        "colab": {
          "base_uri": "https://localhost:8080/"
        },
        "id": "aqt21EMBzXGW",
        "outputId": "c3976511-695a-472f-e8fa-8b34f78f6bde"
      },
      "execution_count": null,
      "outputs": [
        {
          "output_type": "stream",
          "name": "stdout",
          "text": [
            "313/313 [==============================] - 4s 11ms/step\n"
          ]
        },
        {
          "output_type": "execute_result",
          "data": {
            "text/plain": [
              "array([[6.0668998e-07, 2.3443130e-07, 5.4713673e-05, 9.8950642e-01,\n",
              "        6.2566279e-08, 1.0085339e-02, 3.4878057e-04, 1.5937148e-06,\n",
              "        1.7444506e-06, 5.1568031e-07],\n",
              "       [2.0335441e-05, 2.0308598e-05, 1.6385463e-12, 1.4085698e-10,\n",
              "        3.1247756e-13, 1.9698113e-11, 2.1545564e-15, 1.9871329e-14,\n",
              "        9.9995333e-01, 5.9937315e-06],\n",
              "       [2.5314212e-02, 8.0015054e-03, 3.1577903e-05, 3.1489519e-05,\n",
              "        1.9460770e-06, 1.0742801e-04, 5.6692679e-06, 4.2522792e-05,\n",
              "        9.6474898e-01, 1.7145989e-03],\n",
              "       [9.8461205e-01, 1.4743236e-05, 1.4026680e-04, 1.2582574e-04,\n",
              "        6.3074622e-05, 7.8644502e-05, 1.4982858e-06, 9.0545946e-05,\n",
              "        1.4870048e-02, 3.2015353e-06],\n",
              "       [3.9590728e-10, 1.5287674e-07, 5.4214746e-02, 3.2675810e-02,\n",
              "        1.3869473e-01, 8.7641465e-04, 7.7289945e-01, 4.2620241e-10,\n",
              "        6.3561299e-04, 3.0760425e-06]], dtype=float32)"
            ]
          },
          "metadata": {},
          "execution_count": 69
        }
      ]
    },
    {
      "cell_type": "code",
      "source": [
        "test_classes = [np.argmax(element) for element in y_prd]\n",
        "test_classes[:5]"
      ],
      "metadata": {
        "colab": {
          "base_uri": "https://localhost:8080/"
        },
        "id": "fIp5kJUQ3jVk",
        "outputId": "df9228ec-9d5c-43f4-afd8-b1c72dd0b4e5"
      },
      "execution_count": null,
      "outputs": [
        {
          "output_type": "execute_result",
          "data": {
            "text/plain": [
              "[3, 8, 8, 0, 6]"
            ]
          },
          "metadata": {},
          "execution_count": 86
        }
      ]
    },
    {
      "cell_type": "code",
      "source": [
        "class_names[test_classes[1]]"
      ],
      "metadata": {
        "colab": {
          "base_uri": "https://localhost:8080/",
          "height": 35
        },
        "id": "PCRbL9aF5Ww9",
        "outputId": "359d00f5-4098-462f-a6ec-000ad952e2ab"
      },
      "execution_count": null,
      "outputs": [
        {
          "output_type": "execute_result",
          "data": {
            "text/plain": [
              "'ship'"
            ],
            "application/vnd.google.colaboratory.intrinsic+json": {
              "type": "string"
            }
          },
          "metadata": {},
          "execution_count": 87
        }
      ]
    },
    {
      "cell_type": "code",
      "source": [
        "plot_sample(test_images, test_labels, 3)"
      ],
      "metadata": {
        "colab": {
          "base_uri": "https://localhost:8080/",
          "height": 237
        },
        "id": "smp1umuz73bN",
        "outputId": "164526be-9d4b-4608-f202-005849c7e8ed"
      },
      "execution_count": null,
      "outputs": [
        {
          "output_type": "display_data",
          "data": {
            "text/plain": [
              "<Figure size 1500x200 with 1 Axes>"
            ],
            "image/png": "[encoded data removed]"
          },
          "metadata": {}
        }
      ]
    },
    {
      "cell_type": "code",
      "source": [
        "class_names[test_classes[3]]"
      ],
      "metadata": {
        "colab": {
          "base_uri": "https://localhost:8080/",
          "height": 35
        },
        "id": "urTewOLf9CWF",
        "outputId": "3a76946e-7cc6-4d8a-8e0c-3c2486732bba"
      },
      "execution_count": null,
      "outputs": [
        {
          "output_type": "execute_result",
          "data": {
            "text/plain": [
              "'airplane'"
            ],
            "application/vnd.google.colaboratory.intrinsic+json": {
              "type": "string"
            }
          },
          "metadata": {},
          "execution_count": 88
        }
      ]
    }
  ]
}